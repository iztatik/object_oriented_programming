{
 "cells": [
  {
   "cell_type": "markdown",
   "metadata": {},
   "source": [
    "# Use of print()\n",
    "* Simple\n",
    "* .format()\n",
    "* %\n",
    "* f"
   ]
  },
  {
   "cell_type": "markdown",
   "metadata": {},
   "source": [
    "## Simple use of print\n",
    "print('String', number)"
   ]
  },
  {
   "cell_type": "code",
   "execution_count": 1,
   "metadata": {},
   "outputs": [
    {
     "name": "stdout",
     "output_type": "stream",
     "text": [
      "Pi value is: 3.1416\n"
     ]
    }
   ],
   "source": [
    "print('Pi value is:', 3.1416)"
   ]
  },
  {
   "cell_type": "markdown",
   "metadata": {},
   "source": [
    "## .format()\n",
    "\n",
    "* Substitues a dictionary {i:1.2f} in a string with the value defined inside the .format()<br>\n",
    "* 1.2f represents a float number format. It colud let in blank if the number is an integer\n",
    "      print('La suma de {a:1.2} y {b:1.2f} es {c:1.2f}'.format(a=3.12, b= 4.23, c=5,55))\n"
   ]
  },
  {
   "cell_type": "code",
   "execution_count": 3,
   "metadata": {},
   "outputs": [
    {
     "name": "stdout",
     "output_type": "stream",
     "text": [
      "My hand has 5 fingers\n"
     ]
    }
   ],
   "source": [
    "# Simple use withut index\n",
    "print('My hand has {} fingers'.format(5))"
   ]
  },
  {
   "cell_type": "code",
   "execution_count": 5,
   "metadata": {},
   "outputs": [
    {
     "name": "stdout",
     "output_type": "stream",
     "text": [
      "My car has only 2 doors, but yours has 4\n"
     ]
    }
   ],
   "source": [
    "# Index use for integers\n",
    "print('My car has only {b} doors, but yours has {a}'.format(a=4, b=2))"
   ]
  },
  {
   "cell_type": "code",
   "execution_count": 6,
   "metadata": {},
   "outputs": [
    {
     "name": "stdout",
     "output_type": "stream",
     "text": [
      "Pi/3 numeric vaule is 0.449 and equals to 25.714 degrees\n"
     ]
    }
   ],
   "source": [
    "# Index use for float\n",
    "print('Pi/3 numeric vaule is {a:1.3f} and equals to {b:2.3f} degrees'.format(a=0.449, b=25.714))"
   ]
  },
  {
   "cell_type": "markdown",
   "metadata": {},
   "source": [
    "## Use of %\n",
    "* Only defines the location of the substitution of any variable type (converts it to string)"
   ]
  },
  {
   "cell_type": "code",
   "execution_count": 8,
   "metadata": {},
   "outputs": [
    {
     "name": "stdout",
     "output_type": "stream",
     "text": [
      "My name is Alberto and I have 35.5 credits\n"
     ]
    }
   ],
   "source": [
    "print('My name is %s and I have %s credits'%('Alberto', 35.5))"
   ]
  },
  {
   "cell_type": "markdown",
   "metadata": {},
   "source": [
    "## Use of 'f'\n",
    "* Subtitudes directly a variable previously defined in the **{}** symbol inside a string"
   ]
  },
  {
   "cell_type": "code",
   "execution_count": 9,
   "metadata": {},
   "outputs": [
    {
     "name": "stdout",
     "output_type": "stream",
     "text": [
      "My name is Alberto, my area is Engineering and I have 25.5 credits\n"
     ]
    }
   ],
   "source": [
    "name = 'Alberto'\n",
    "area = 'Engineering'\n",
    "credits = 25.5\n",
    "\n",
    "print(f'My name is {name}, my area is {area} and I have {credits} credits')"
   ]
  }
 ],
 "metadata": {
  "kernelspec": {
   "display_name": "Python 3 (ipykernel)",
   "language": "python",
   "name": "python3"
  },
  "language_info": {
   "codemirror_mode": {
    "name": "ipython",
    "version": 3
   },
   "file_extension": ".py",
   "mimetype": "text/x-python",
   "name": "python",
   "nbconvert_exporter": "python",
   "pygments_lexer": "ipython3",
   "version": "3.9.6"
  }
 },
 "nbformat": 4,
 "nbformat_minor": 4
}
