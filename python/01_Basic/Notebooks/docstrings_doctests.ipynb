{
 "cells": [
  {
   "cell_type": "markdown",
   "metadata": {},
   "source": [
    "# Docstrings and Doctests"
   ]
  },
  {
   "cell_type": "markdown",
   "metadata": {},
   "source": [
    "## Docstrings\n",
    "\n",
    "Are useful to document our code and to access to the documentation through the function help(). They use the symbol \"\"\"Docstring\"\"\""
   ]
  },
  {
   "cell_type": "code",
   "execution_count": 6,
   "metadata": {},
   "outputs": [],
   "source": [
    "class operate:\n",
    "    \"\"\" This class is able to add, substract and multiply\"\"\"\n",
    "    \n",
    "    def add(self, v1,v2):\n",
    "        \"\"\" This method adds two numbers\"\"\"\n",
    "        return v1+v2\n",
    "    \n",
    "    def sub(self, v1,v2):\n",
    "        \"\"\" This method substracts two numbers\"\"\"\n",
    "        return v1-v2\n",
    "    \n",
    "    def mult(self, v1,v2):\n",
    "        \"\"\" This method multiplies two numbers\"\"\"\n",
    "        return v1*v2    "
   ]
  },
  {
   "cell_type": "code",
   "execution_count": 7,
   "metadata": {},
   "outputs": [
    {
     "name": "stdout",
     "output_type": "stream",
     "text": [
      "Help on class operate in module __main__:\n",
      "\n",
      "class operate(builtins.object)\n",
      " |  This class is able to add, substract and multiply\n",
      " |  \n",
      " |  Methods defined here:\n",
      " |  \n",
      " |  add(self, v1, v2)\n",
      " |      This method adds two numbers\n",
      " |  \n",
      " |  mult(self, v1, v2)\n",
      " |      This method multiplies two numbers\n",
      " |  \n",
      " |  sub(self, v1, v2)\n",
      " |      This method substracts two numbers\n",
      " |  \n",
      " |  ----------------------------------------------------------------------\n",
      " |  Data descriptors defined here:\n",
      " |  \n",
      " |  __dict__\n",
      " |      dictionary for instance variables (if defined)\n",
      " |  \n",
      " |  __weakref__\n",
      " |      list of weak references to the object (if defined)\n",
      "\n"
     ]
    }
   ],
   "source": [
    "help(operate)"
   ]
  },
  {
   "cell_type": "markdown",
   "metadata": {},
   "source": [
    "## Doctests\n",
    "\n",
    "Are usefull to run desktop tests. They use the symbol >>>"
   ]
  },
  {
   "cell_type": "code",
   "execution_count": 18,
   "metadata": {},
   "outputs": [],
   "source": [
    "import doctest\n",
    "\n",
    "class operate:\n",
    "    \"\"\" This class is able to add, substract and multiply\"\"\"\n",
    "    \n",
    "    def add(self, v1,v2):\n",
    "        \"\"\" This method adds two numbers\n",
    "        >>> operate().add(3,5)\n",
    "        8\n",
    "        \"\"\"\n",
    "        return v1+v2\n",
    "    \n",
    "    def sub(self, v1,v2):\n",
    "        \"\"\" This method substracts two numbers\n",
    "        >>> operate().sub(9,6)\n",
    "        3\n",
    "        \"\"\"\n",
    "        return v1-v2\n",
    "    \n",
    "    def mult(self, v1,v2):\n",
    "        \"\"\" This method multiplies two numbers\n",
    "        >>> operate().mult(5,5)\n",
    "        25\n",
    "        \"\"\"\n",
    "        return v1*v2  "
   ]
  },
  {
   "cell_type": "code",
   "execution_count": 19,
   "metadata": {},
   "outputs": [
    {
     "data": {
      "text/plain": [
       "TestResults(failed=0, attempted=3)"
      ]
     },
     "execution_count": 19,
     "metadata": {},
     "output_type": "execute_result"
    }
   ],
   "source": [
    "doctest.testmod()"
   ]
  },
  {
   "cell_type": "code",
   "execution_count": null,
   "metadata": {},
   "outputs": [],
   "source": []
  }
 ],
 "metadata": {
  "kernelspec": {
   "display_name": "Python 3 (ipykernel)",
   "language": "python",
   "name": "python3"
  },
  "language_info": {
   "codemirror_mode": {
    "name": "ipython",
    "version": 3
   },
   "file_extension": ".py",
   "mimetype": "text/x-python",
   "name": "python",
   "nbconvert_exporter": "python",
   "pygments_lexer": "ipython3",
   "version": "3.9.6"
  }
 },
 "nbformat": 4,
 "nbformat_minor": 4
}
