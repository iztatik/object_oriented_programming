{
 "cells": [
  {
   "cell_type": "markdown",
   "metadata": {},
   "source": [
    "# Functions\n",
    "* Simple functions\n",
    "* Multiple arguments functions\n",
    "* Functions that return multiple values\n",
    "* Mask a function\n",
    "* Global variables\n",
    "* Lambdas\n",
    "* Nested functions\n",
    "* Closures\n",
    "* Functions that recive functions\n",
    "* Decorators"
   ]
  },
  {
   "cell_type": "markdown",
   "metadata": {},
   "source": [
    "## Simple function"
   ]
  },
  {
   "cell_type": "code",
   "execution_count": 1,
   "metadata": {},
   "outputs": [],
   "source": [
    "def add(num1, num2):\n",
    "    return num1+num2"
   ]
  },
  {
   "cell_type": "code",
   "execution_count": 3,
   "metadata": {},
   "outputs": [
    {
     "name": "stdin",
     "output_type": "stream",
     "text": [
      "Write an integer:  3\n",
      "Write an integer:  4\n"
     ]
    },
    {
     "name": "stdout",
     "output_type": "stream",
     "text": [
      "The addition of this numbers is:  7\n"
     ]
    }
   ],
   "source": [
    "var1 = int(input('Write an integer: '))\n",
    "var2 = int(input('Write an integer: '))\n",
    "print('The addition of this numbers is: ',add(var1, var2))"
   ]
  },
  {
   "cell_type": "markdown",
   "metadata": {},
   "source": [
    "## Multiple return function"
   ]
  },
  {
   "cell_type": "code",
   "execution_count": 4,
   "metadata": {},
   "outputs": [],
   "source": [
    "def addSubMult(num1, num2):\n",
    "    return (num1+num2, num1-num2, num1*num2)"
   ]
  },
  {
   "cell_type": "code",
   "execution_count": 5,
   "metadata": {},
   "outputs": [
    {
     "name": "stdin",
     "output_type": "stream",
     "text": [
      "Write an integer:  3\n",
      "Write an integer:  2\n"
     ]
    },
    {
     "name": "stdout",
     "output_type": "stream",
     "text": [
      "(5, 1, 6)\n"
     ]
    }
   ],
   "source": [
    "var1 = int(input('Write an integer: '))\n",
    "var2 = int(input('Write an integer: '))\n",
    "print(addSubMult(var1, var2))"
   ]
  },
  {
   "cell_type": "markdown",
   "metadata": {},
   "source": [
    "## Tuple as argument"
   ]
  },
  {
   "cell_type": "code",
   "execution_count": 26,
   "metadata": {},
   "outputs": [],
   "source": [
    "def prom(*args):\n",
    "    print(type(args))\n",
    "    return sum(args)/len(args)"
   ]
  },
  {
   "cell_type": "code",
   "execution_count": 27,
   "metadata": {},
   "outputs": [
    {
     "name": "stdout",
     "output_type": "stream",
     "text": [
      "<class 'tuple'>\n",
      "65.0\n"
     ]
    }
   ],
   "source": [
    "print(prom(100, 70, 0, 90))"
   ]
  },
  {
   "cell_type": "markdown",
   "metadata": {},
   "source": [
    "## Dictionary as argument"
   ]
  },
  {
   "cell_type": "code",
   "execution_count": 1,
   "metadata": {},
   "outputs": [],
   "source": [
    "def my_dic(**kwargs):\n",
    "    print(type(kwargs))\n",
    "    return kwargs.keys()"
   ]
  },
  {
   "cell_type": "code",
   "execution_count": 2,
   "metadata": {},
   "outputs": [
    {
     "name": "stdout",
     "output_type": "stream",
     "text": [
      "<class 'dict'>\n"
     ]
    },
    {
     "data": {
      "text/plain": [
       "dict_keys(['a', 'b', 'c'])"
      ]
     },
     "execution_count": 2,
     "metadata": {},
     "output_type": "execute_result"
    }
   ],
   "source": [
    "my_dic(a=1, b=2, c=3)"
   ]
  },
  {
   "cell_type": "markdown",
   "metadata": {},
   "source": [
    "## Mask a function\n",
    "Use an alternatve name to call a function"
   ]
  },
  {
   "cell_type": "code",
   "execution_count": 6,
   "metadata": {},
   "outputs": [
    {
     "name": "stdout",
     "output_type": "stream",
     "text": [
      "-6\n"
     ]
    }
   ],
   "source": [
    "suma = add\n",
    "print(suma(2,-8))"
   ]
  },
  {
   "cell_type": "markdown",
   "metadata": {},
   "source": [
    "## Globlal variables"
   ]
  },
  {
   "cell_type": "markdown",
   "metadata": {},
   "source": [
    "### Local variables"
   ]
  },
  {
   "cell_type": "code",
   "execution_count": 14,
   "metadata": {},
   "outputs": [
    {
     "name": "stdout",
     "output_type": "stream",
     "text": [
      "Before calling the function: 3.1416\n",
      "After calling the function: 3.1416\n"
     ]
    }
   ],
   "source": [
    "var = 3.1416\n",
    "\n",
    "def my_fun():\n",
    "    var = 'Not coincident with the other var'\n",
    "\n",
    "print('Before calling the function:',var)\n",
    "my_fun()\n",
    "print('After calling the function:',var)"
   ]
  },
  {
   "cell_type": "markdown",
   "metadata": {},
   "source": [
    "### Global variable"
   ]
  },
  {
   "cell_type": "code",
   "execution_count": 12,
   "metadata": {},
   "outputs": [
    {
     "name": "stdout",
     "output_type": "stream",
     "text": [
      "Before calling the function: 3.1416\n",
      "After calling the function: It is coincident with the other var\n"
     ]
    }
   ],
   "source": [
    "global var\n",
    "var = 3.1416\n",
    "\n",
    "def my_fun():\n",
    "    global var\n",
    "    var = 'It is coincident with the other var'\n",
    "\n",
    "print('Before calling the function:',var)\n",
    "my_fun()\n",
    "print('After calling the function:',var)"
   ]
  },
  {
   "cell_type": "markdown",
   "metadata": {},
   "source": [
    "## Lambdas\n",
    "### Single line functions"
   ]
  },
  {
   "cell_type": "code",
   "execution_count": 3,
   "metadata": {},
   "outputs": [
    {
     "name": "stdout",
     "output_type": "stream",
     "text": [
      "0\n"
     ]
    }
   ],
   "source": [
    "add_lambda = lambda num1, num2 : num1/num2 if num2!=0 else 0\n",
    "print(add_lambda(5,0))"
   ]
  },
  {
   "cell_type": "markdown",
   "metadata": {},
   "source": [
    "## Nested functions"
   ]
  },
  {
   "cell_type": "code",
   "execution_count": 26,
   "metadata": {},
   "outputs": [
    {
     "name": "stdout",
     "output_type": "stream",
     "text": [
      "4.0\n",
      "Denominator must be different to zero\n"
     ]
    }
   ],
   "source": [
    "def div(num, den):\n",
    "    def validation():\n",
    "        return den != 0\n",
    "    \n",
    "    if (validation()):\n",
    "        return num/den\n",
    "    else:\n",
    "        return 'Denominator must be different to zero'\n",
    "        \n",
    "print(div(16,4))\n",
    "print(div(25,0))"
   ]
  },
  {
   "cell_type": "markdown",
   "metadata": {},
   "source": [
    "## Closures\n",
    "### Functions that return functions"
   ]
  },
  {
   "cell_type": "code",
   "execution_count": 42,
   "metadata": {},
   "outputs": [
    {
     "name": "stdout",
     "output_type": "stream",
     "text": [
      "Addition: 5\n",
      "Substraction: -10\n"
     ]
    }
   ],
   "source": [
    "def operation(case):\n",
    "    def op_add(num1,num2):\n",
    "        return num1+num2\n",
    "    \n",
    "    def op_sub(num1,num2):\n",
    "        return num1-num2\n",
    "        \n",
    "    def op_mul(num1,num2):\n",
    "        return num1*num2\n",
    "    \n",
    "    if(case == 'addition'):\n",
    "        return op_add\n",
    "    elif(case == 'substraction'):\n",
    "        return op_sub\n",
    "    elif(case == 'multiplication'):\n",
    "        return op_mul\n",
    "    else:\n",
    "        print('error')\n",
    "\n",
    "ex_add = operation('addition')\n",
    "print('Addition:', ex_add(3,2))\n",
    "\n",
    "ex_sub = operation('substraction')\n",
    "print('Substraction:', ex_sub(20,30))"
   ]
  },
  {
   "cell_type": "markdown",
   "metadata": {},
   "source": [
    "### Functions that recive functions as arguments"
   ]
  },
  {
   "cell_type": "code",
   "execution_count": 41,
   "metadata": {},
   "outputs": [
    {
     "name": "stdout",
     "output_type": "stream",
     "text": [
      "This extends a function\n"
     ]
    },
    {
     "name": "stdin",
     "output_type": "stream",
     "text": [
      "Valor:  6\n",
      "Valor:  2\n"
     ]
    },
    {
     "name": "stdout",
     "output_type": "stream",
     "text": [
      "Result: 8\n"
     ]
    }
   ],
   "source": [
    "def my_fun(fun):\n",
    "    print('This extends a function')\n",
    "    a = int(input('Valor: '))\n",
    "    b = int(input('Valor: '))\n",
    "    print('Result:', fun(a,b))\n",
    "    \n",
    "my_fun(ex_add)"
   ]
  },
  {
   "cell_type": "markdown",
   "metadata": {},
   "source": [
    "## Decorators\n",
    "### Closure + function as argument"
   ]
  },
  {
   "cell_type": "code",
   "execution_count": 3,
   "metadata": {},
   "outputs": [],
   "source": [
    "# Decorator\n",
    "def my_title(fun):\n",
    "    def new_fun(*args):\n",
    "        print('The operation result is:')\n",
    "        return fun(*args)\n",
    "    return new_fun"
   ]
  },
  {
   "cell_type": "code",
   "execution_count": 4,
   "metadata": {},
   "outputs": [
    {
     "name": "stdin",
     "output_type": "stream",
     "text": [
      "Value 1:  3\n",
      "Value 2:  5\n"
     ]
    },
    {
     "name": "stdout",
     "output_type": "stream",
     "text": [
      "The operation result is:\n",
      "8\n"
     ]
    }
   ],
   "source": [
    "# Decorated function 1\n",
    "@my_title\n",
    "def add(val1, val2):\n",
    "    return val1+val2\n",
    "\n",
    "v1 = int(input('Value 1: '))\n",
    "v2 = int(input('Value 2: '))\n",
    "print(add(v1,v2))"
   ]
  },
  {
   "cell_type": "code",
   "execution_count": 8,
   "metadata": {},
   "outputs": [
    {
     "name": "stdout",
     "output_type": "stream",
     "text": [
      "The operation result is:\n",
      "61.75\n"
     ]
    }
   ],
   "source": [
    "# Decorated function 2\n",
    "@my_title\n",
    "def prom(*args):\n",
    "    return sum(args)/len(args)\n",
    "\n",
    "print(prom(100, 60, 55, 32))"
   ]
  },
  {
   "cell_type": "markdown",
   "metadata": {},
   "source": [
    "### Decorators that recieve parameters"
   ]
  },
  {
   "cell_type": "code",
   "execution_count": 9,
   "metadata": {},
   "outputs": [],
   "source": [
    "def my_personal_title(param='default'):\n",
    "    def _my_personal_title(fun):\n",
    "        def new_fun(*args):\n",
    "            if param=='op_add':\n",
    "                print('The result of the addition is:')\n",
    "            elif param=='op_sub':\n",
    "                print('The result of the subtraction is:')\n",
    "            elif param=='default':\n",
    "                print('No operation defined')\n",
    "            else:\n",
    "                print('Operation definition error')\n",
    "            return fun(*args)\n",
    "                \n",
    "        return new_fun\n",
    "    return _my_personal_title"
   ]
  },
  {
   "cell_type": "code",
   "execution_count": 11,
   "metadata": {},
   "outputs": [
    {
     "name": "stdout",
     "output_type": "stream",
     "text": [
      "The result of the addition is:\n",
      "8\n"
     ]
    }
   ],
   "source": [
    "# First decorated function\n",
    "@my_personal_title('op_add')\n",
    "def add(val1, val2):\n",
    "    return val1+val2\n",
    "\n",
    "print(add(3,5))"
   ]
  },
  {
   "cell_type": "code",
   "execution_count": 12,
   "metadata": {},
   "outputs": [
    {
     "name": "stdout",
     "output_type": "stream",
     "text": [
      "The result of the subtraction is:\n",
      "-2\n"
     ]
    }
   ],
   "source": [
    "# Second decorated function\n",
    "@my_personal_title('op_sub')\n",
    "def sub(val1, val2):\n",
    "    return val1-val2\n",
    "\n",
    "print(sub(3,5))"
   ]
  },
  {
   "cell_type": "code",
   "execution_count": null,
   "metadata": {},
   "outputs": [],
   "source": []
  }
 ],
 "metadata": {
  "kernelspec": {
   "display_name": "Python 3 (ipykernel)",
   "language": "python",
   "name": "python3"
  },
  "language_info": {
   "codemirror_mode": {
    "name": "ipython",
    "version": 3
   },
   "file_extension": ".py",
   "mimetype": "text/x-python",
   "name": "python",
   "nbconvert_exporter": "python",
   "pygments_lexer": "ipython3",
   "version": "3.9.7"
  }
 },
 "nbformat": 4,
 "nbformat_minor": 4
}
