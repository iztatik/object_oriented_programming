{
 "cells": [
  {
   "cell_type": "markdown",
   "metadata": {},
   "source": [
    "# Objects\n",
    "* Creation\n",
    "* Class ans static methods\n",
    "* Magic methods -> _str_ & _repr_\n",
    "* Heritage\n",
    "* Polymorphism\n",
    "* Encapsulation"
   ]
  },
  {
   "cell_type": "code",
   "execution_count": 5,
   "metadata": {},
   "outputs": [
    {
     "name": "stdout",
     "output_type": "stream",
     "text": [
      "Descartes is greeting you\n",
      "Original nationality: French\n",
      "Exile nationality:  Dutch\n"
     ]
    }
   ],
   "source": [
    "# Object creation\n",
    "class person:\n",
    "    def __init__(self, name, age, ocup, nati):\n",
    "        self.name = name\n",
    "        self.age = age\n",
    "        self.ocupation = ocup\n",
    "        self.nationality = nati\n",
    "        \n",
    "    def greeting(self):\n",
    "        print('{a} is greeting you'.format(a=self.name))\n",
    "        \n",
    "# Creating a class instace\n",
    "my_person = person('Descartes', 33, 'Mathematician', 'French')\n",
    "my_person.greeting()\n",
    "\n",
    "# Printing attributes\n",
    "print('Original nationality:',my_person.nationality)\n",
    "\n",
    "# Modifying attributes\n",
    "my_person.nationality = 'Dutch'\n",
    "print('Exile nationality: ', my_person.nationality)"
   ]
  },
  {
   "cell_type": "markdown",
   "metadata": {},
   "source": [
    "## Class methods\n",
    "\n",
    "* Don't need an instace to be invoked\n",
    "* They use the @classmethod decorator and the word \"cls\" instead of \"self\""
   ]
  },
  {
   "cell_type": "code",
   "execution_count": 1,
   "metadata": {},
   "outputs": [
    {
     "name": "stdout",
     "output_type": "stream",
     "text": [
      "The cake is made of: ['chocolate', 'milk', 'eggs']\n",
      "You have eaten the cake\n"
     ]
    }
   ],
   "source": [
    "class cake:\n",
    "    def __init__(self, ingredients='None'):\n",
    "        self.ingr = ingredients\n",
    "        \n",
    "    def __str__(self):\n",
    "        return f'The cake is made of: {self.ingr}'\n",
    "        \n",
    "    @classmethod\n",
    "    def chocolateCake(cls):\n",
    "        return cls(['chocolate', 'milk', 'eggs'])\n",
    "    \n",
    "    @classmethod\n",
    "    def lemonCake(cls):\n",
    "        return cls(['lemon', 'milk', 'eggs'])\n",
    "    \n",
    "    @classmethod\n",
    "    def eatCake(cls):\n",
    "        print('You have eaten the cake')\n",
    "\n",
    "# my_cake=cake(['milk', 'chocolate', 'eggs']) This step IS UNNECESSARY\n",
    "print(cake.chocolateCake())\n",
    "cake.eatCake()"
   ]
  },
  {
   "cell_type": "markdown",
   "metadata": {
    "tags": []
   },
   "source": [
    "## Static methods\n",
    "* Can't modify the class attributes and other methods\n",
    "* Don't need an instace to be invoked\n",
    "* They use the @staticmethod decorator\n",
    "* Dont need the word \"self\""
   ]
  },
  {
   "cell_type": "code",
   "execution_count": 7,
   "metadata": {},
   "outputs": [
    {
     "name": "stdout",
     "output_type": "stream",
     "text": [
      "The car accelerated to 100 km/hr\n"
     ]
    }
   ],
   "source": [
    "class car:\n",
    "    def __init__(self, color='white', model='2020'):\n",
    "        self.color=color\n",
    "        self.model=model\n",
    "        \n",
    "    @staticmethod\n",
    "    def accelerate(speed):\n",
    "        return f'The car accelerated to {speed} km/hr'\n",
    "    \n",
    "print(car.accelerate(100))"
   ]
  },
  {
   "cell_type": "markdown",
   "metadata": {},
   "source": [
    "## Magic methods (str & repr)\n",
    "\n",
    "Are used to associate a string to an object\n",
    "* str -> For human use\n",
    "* repr -> Machine use"
   ]
  },
  {
   "cell_type": "markdown",
   "metadata": {},
   "source": [
    "### Printing an object without using str or repr (DEFAULT)"
   ]
  },
  {
   "cell_type": "code",
   "execution_count": 8,
   "metadata": {},
   "outputs": [
    {
     "name": "stdout",
     "output_type": "stream",
     "text": [
      "<__main__.human object at 0x7fa07850db20>\n"
     ]
    }
   ],
   "source": [
    "class human:\n",
    "    def __init__(self, name=None, age=18):\n",
    "        self.name = name\n",
    "        self.age = age\n",
    "        \n",
    "my_human = human()\n",
    "print(my_human)"
   ]
  },
  {
   "cell_type": "markdown",
   "metadata": {},
   "source": [
    "### Using str\n",
    "* str() is used to print the human readeble strig"
   ]
  },
  {
   "cell_type": "code",
   "execution_count": 12,
   "metadata": {},
   "outputs": [
    {
     "name": "stdout",
     "output_type": "stream",
     "text": [
      "Jesus is a human of 33\n",
      "<__main__.human object at 0x7fa07850d1f0>\n"
     ]
    }
   ],
   "source": [
    "class human:\n",
    "    def __init__(self, name=None, age=18):\n",
    "        self.name = name\n",
    "        self.age = age\n",
    "        \n",
    "    def __str__(self):\n",
    "        return f'{self.name} is a human of {self.age}'\n",
    "        \n",
    "my_human2 = human('Jesus', 33)\n",
    "print(str(my_human2))\n",
    "print(repr(my_human2))"
   ]
  },
  {
   "cell_type": "markdown",
   "metadata": {},
   "source": [
    "### Using repr"
   ]
  },
  {
   "cell_type": "code",
   "execution_count": 15,
   "metadata": {},
   "outputs": [
    {
     "name": "stdout",
     "output_type": "stream",
     "text": [
      "Jesus is a human of 33\n",
      "human('Jesus', 33)\n"
     ]
    }
   ],
   "source": [
    "class human:\n",
    "    def __init__(self, name=None, age=18):\n",
    "        self.name = name\n",
    "        self.age = age\n",
    "        \n",
    "    def __str__(self):\n",
    "        return f'{self.name} is a human of {self.age}'\n",
    "    \n",
    "    def __repr__(self):\n",
    "        return f'human({self.name !r}, {self.age})'\n",
    "        \n",
    "my_human3 = human('Jesus', 33)\n",
    "print(str(my_human3))\n",
    "print(repr(my_human3))"
   ]
  },
  {
   "cell_type": "markdown",
   "metadata": {},
   "source": [
    "### eval() can be used to create an instance identical to another through its \"machine\" string representation"
   ]
  },
  {
   "cell_type": "code",
   "execution_count": 20,
   "metadata": {},
   "outputs": [
    {
     "name": "stdout",
     "output_type": "stream",
     "text": [
      "human('Jesus', 33)\n",
      "Jesus is a human of 33\n"
     ]
    }
   ],
   "source": [
    "my_human4 = eval(repr(my_human3))\n",
    "print(repr(my_human4))\n",
    "print(str(my_human4))"
   ]
  },
  {
   "cell_type": "markdown",
   "metadata": {},
   "source": [
    "## Magic method __call__\n",
    "\n",
    "Is used to make an instance object-like invocable. When invocated the code inside the function __call__ is run."
   ]
  },
  {
   "cell_type": "code",
   "execution_count": 4,
   "metadata": {},
   "outputs": [
    {
     "name": "stdout",
     "output_type": "stream",
     "text": [
      "Jesus has been invocated by Alberto\n"
     ]
    }
   ],
   "source": [
    "class human:\n",
    "    def __init__(self, name=None, age=18):\n",
    "        self.name = name\n",
    "        self.age = age\n",
    "        \n",
    "    def __call__(self, invocator):\n",
    "        return f'{self.name} has been invocated by {invocator}'\n",
    "        \n",
    "my_human = human('Jesus', 33)\n",
    "print(my_human('Alberto'))"
   ]
  },
  {
   "cell_type": "markdown",
   "metadata": {},
   "source": [
    "## Heritage\n",
    "\n",
    "A class could be created from another and it while heritaging the attributes and methods"
   ]
  },
  {
   "cell_type": "code",
   "execution_count": 6,
   "metadata": {},
   "outputs": [
    {
     "name": "stdout",
     "output_type": "stream",
     "text": [
      "This pokemon is called Antonio and its style is fire\n",
      "Pedro is saying PikaPika\n"
     ]
    }
   ],
   "source": [
    "class pokemon:\n",
    "    def __init__(self, name, style):\n",
    "        self.name = name\n",
    "        self.style = style\n",
    "        \n",
    "    def describe(self):\n",
    "        return f'This pokemon is called {self.name} and its style is {self.style}'\n",
    "    \n",
    "# The class pikachu heritages the class pokemon\n",
    "class pikachu(pokemon):\n",
    "    def sayPikaPika(self):\n",
    "        print(f'{self.name} is saying PikaPika')\n",
    "    \n",
    "    \n",
    "generic = pokemon('Antonio', 'fire')\n",
    "print(generic.describe())\n",
    "\n",
    "my_pokemon = pikachu('Pedro', 'electrical')\n",
    "my_pokemon.sayPikaPika()"
   ]
  },
  {
   "cell_type": "markdown",
   "metadata": {},
   "source": [
    "## Polymorphism\n",
    "\n",
    "The heir class could modify a certain inherited method in order to adapt it "
   ]
  },
  {
   "cell_type": "code",
   "execution_count": 10,
   "metadata": {},
   "outputs": [
    {
     "name": "stdout",
     "output_type": "stream",
     "text": [
      "Antonio has attacked with Push\n",
      "This pokemon is called Pedro and its style is electrical\n",
      "Pedro has attacked with Impaktrueno\n"
     ]
    }
   ],
   "source": [
    "class pokemon:\n",
    "    def __init__(self, name, style):\n",
    "        self.name = name\n",
    "        self.style = style\n",
    "        \n",
    "    def describe(self):\n",
    "        print (f'This pokemon is called {self.name} and its style is {self.style}')\n",
    "    \n",
    "    def attack(self):\n",
    "        print(f'{self.name} has attacked with Push')\n",
    "        \n",
    "    \n",
    "class pikachu(pokemon):\n",
    "    def sayPikaPika(self):\n",
    "        print(f'{self.name} is saying PikaPika')\n",
    "        \n",
    "    def attack(self):\n",
    "        print(f'{self.name} has attacked with Impaktrueno')\n",
    "        \n",
    "generic = pokemon('Antonio', 'fire')\n",
    "generic.attack()\n",
    "\n",
    "my_pokemon = pikachu('Pedro','electrical')\n",
    "my_pokemon.describe()\n",
    "my_pokemon.attack()"
   ]
  },
  {
   "cell_type": "markdown",
   "metadata": {},
   "source": [
    "## Encapsulation"
   ]
  },
  {
   "cell_type": "markdown",
   "metadata": {},
   "source": [
    "### Encapsulation is done writing \"__\" before the attributes name"
   ]
  },
  {
   "cell_type": "code",
   "execution_count": 10,
   "metadata": {},
   "outputs": [
    {
     "name": "stdout",
     "output_type": "stream",
     "text": [
      "60\n"
     ]
    },
    {
     "ename": "AttributeError",
     "evalue": "'student' object has no attribute '__name'",
     "output_type": "error",
     "traceback": [
      "\u001b[0;31m---------------------------------------------------------------------------\u001b[0m",
      "\u001b[0;31mAttributeError\u001b[0m                            Traceback (most recent call last)",
      "\u001b[0;32m<ipython-input-10-a2f88e91ca50>\u001b[0m in \u001b[0;36m<module>\u001b[0;34m\u001b[0m\n\u001b[1;32m     17\u001b[0m \u001b[0;34m\u001b[0m\u001b[0m\n\u001b[1;32m     18\u001b[0m \u001b[0mprint\u001b[0m\u001b[0;34m(\u001b[0m\u001b[0mmyStudent\u001b[0m\u001b[0;34m.\u001b[0m\u001b[0mgrade\u001b[0m\u001b[0;34m)\u001b[0m\u001b[0;34m\u001b[0m\u001b[0;34m\u001b[0m\u001b[0m\n\u001b[0;32m---> 19\u001b[0;31m \u001b[0mprint\u001b[0m\u001b[0;34m(\u001b[0m\u001b[0mmyStudent\u001b[0m\u001b[0;34m.\u001b[0m\u001b[0m__name\u001b[0m\u001b[0;34m)\u001b[0m\u001b[0;34m\u001b[0m\u001b[0;34m\u001b[0m\u001b[0m\n\u001b[0m",
      "\u001b[0;31mAttributeError\u001b[0m: 'student' object has no attribute '__name'"
     ]
    }
   ],
   "source": [
    "class student:\n",
    "    def __init__(self, name, grade):\n",
    "        self.__name = name \n",
    "        self.grade = grade\n",
    "        \n",
    "    def getname(self):\n",
    "        return self.__name\n",
    "    \n",
    "    def setname(self, newName):\n",
    "        self.__name=newName\n",
    "        \n",
    "    def delname(self):\n",
    "        self.__name = None\n",
    "        \n",
    "\n",
    "myStudent = student('Pompey',60)\n",
    "\n",
    "print(myStudent.grade) \n",
    "print(myStudent.__name)"
   ]
  },
  {
   "cell_type": "markdown",
   "metadata": {},
   "source": [
    "### Accesing to an encapsulated attribute through a specific sintax"
   ]
  },
  {
   "cell_type": "code",
   "execution_count": 5,
   "metadata": {},
   "outputs": [
    {
     "ename": "AttributeError",
     "evalue": "'student' object has no attribute '_student'",
     "output_type": "error",
     "traceback": [
      "\u001b[0;31m---------------------------------------------------------------------------\u001b[0m",
      "\u001b[0;31mAttributeError\u001b[0m                            Traceback (most recent call last)",
      "\u001b[0;32m<ipython-input-5-b01d97bf1cc8>\u001b[0m in \u001b[0;36m<module>\u001b[0;34m\u001b[0m\n\u001b[0;32m----> 1\u001b[0;31m \u001b[0mprint\u001b[0m\u001b[0;34m(\u001b[0m\u001b[0;34mf'{myStudent._student.__name}'\u001b[0m\u001b[0;34m)\u001b[0m\u001b[0;34m\u001b[0m\u001b[0;34m\u001b[0m\u001b[0m\n\u001b[0m",
      "\u001b[0;31mAttributeError\u001b[0m: 'student' object has no attribute '_student'"
     ]
    }
   ],
   "source": [
    "print(f'{myStudent._student.__name}')"
   ]
  },
  {
   "cell_type": "markdown",
   "metadata": {},
   "source": [
    "## Accesing using get(), set(), del()"
   ]
  },
  {
   "cell_type": "code",
   "execution_count": 7,
   "metadata": {},
   "outputs": [
    {
     "name": "stdout",
     "output_type": "stream",
     "text": [
      "Pompey\n"
     ]
    }
   ],
   "source": [
    "print(myStudent.getname())"
   ]
  },
  {
   "cell_type": "code",
   "execution_count": 9,
   "metadata": {},
   "outputs": [
    {
     "name": "stdout",
     "output_type": "stream",
     "text": [
      "JuliusCaesar\n"
     ]
    }
   ],
   "source": [
    "myStudent.setname('JuliusCaesar')\n",
    "print(myStudent.getname())"
   ]
  },
  {
   "cell_type": "code",
   "execution_count": 11,
   "metadata": {},
   "outputs": [
    {
     "name": "stdout",
     "output_type": "stream",
     "text": [
      "None\n"
     ]
    }
   ],
   "source": [
    "myStudent.delname()\n",
    "print(myStudent.getname())"
   ]
  },
  {
   "cell_type": "markdown",
   "metadata": {},
   "source": [
    "## Defining the encapsulation properties"
   ]
  },
  {
   "cell_type": "code",
   "execution_count": 15,
   "metadata": {},
   "outputs": [
    {
     "name": "stdout",
     "output_type": "stream",
     "text": [
      "Jesus\n",
      "Help on employee in module __main__ object:\n",
      "\n",
      "class employee(builtins.object)\n",
      " |  employee(name, salary)\n",
      " |  \n",
      " |  Methods defined here:\n",
      " |  \n",
      " |  __init__(self, name, salary)\n",
      " |      Initialize self.  See help(type(self)) for accurate signature.\n",
      " |  \n",
      " |  getsalary(self)\n",
      " |  \n",
      " |  ----------------------------------------------------------------------\n",
      " |  Readonly properties defined here:\n",
      " |  \n",
      " |  name\n",
      " |      Only read attribute\n",
      " |  \n",
      " |  ----------------------------------------------------------------------\n",
      " |  Data descriptors defined here:\n",
      " |  \n",
      " |  __dict__\n",
      " |      dictionary for instance variables (if defined)\n",
      " |  \n",
      " |  __weakref__\n",
      " |      list of weak references to the object (if defined)\n",
      "\n"
     ]
    }
   ],
   "source": [
    "class employee:\n",
    "    def __init__(self, name, salary):\n",
    "        self.__name=name\n",
    "        self.__salary=salary\n",
    "        \n",
    "    def __getname(self):\n",
    "        return self.__name\n",
    "    \n",
    "    def getsalary(self):\n",
    "        return self.__salary\n",
    "    \n",
    "    # Only read attribute\n",
    "    name = property(fget=__getname, doc=('Only read attribute'))\n",
    "    \n",
    "my_employee = employee('Jesus', 8000)\n",
    "\n",
    "print(my_employee.name)\n",
    "#my_employee.name='Enrique'\n",
    "help(my_employee)"
   ]
  },
  {
   "cell_type": "code",
   "execution_count": null,
   "metadata": {},
   "outputs": [],
   "source": []
  }
 ],
 "metadata": {
  "kernelspec": {
   "display_name": "Python 3 (ipykernel)",
   "language": "python",
   "name": "python3"
  },
  "language_info": {
   "codemirror_mode": {
    "name": "ipython",
    "version": 3
   },
   "file_extension": ".py",
   "mimetype": "text/x-python",
   "name": "python",
   "nbconvert_exporter": "python",
   "pygments_lexer": "ipython3",
   "version": "3.9.7"
  }
 },
 "nbformat": 4,
 "nbformat_minor": 4
}
