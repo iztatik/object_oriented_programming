{
 "cells": [
  {
   "cell_type": "markdown",
   "metadata": {},
   "source": [
    "# Errors\n",
    "### There are 2 kinds of errors\n",
    "* Sintax\n",
    "* Exceptions"
   ]
  },
  {
   "cell_type": "markdown",
   "metadata": {},
   "source": [
    "### There are some reserved words for the use of exceptions\n",
    "* try - Run a code section cheking if there are exceptions\n",
    "* except- Run a code section when an exception appears\n",
    "* else- Run a code section if there is no exceptions\n",
    "* finally- Run a code section either or not an exception appears\n",
    "* raise- Manually trows an exception "
   ]
  },
  {
   "cell_type": "code",
   "execution_count": 13,
   "metadata": {},
   "outputs": [
    {
     "name": "stdin",
     "output_type": "stream",
     "text": [
      "Write an integer: 3\n",
      "Write another integer: 2\n"
     ]
    },
    {
     "name": "stdout",
     "output_type": "stream",
     "text": [
      "The division is:  1.5\n",
      "You have finished the program through the keyboard\n",
      "Program just ended\n"
     ]
    },
    {
     "name": "stdin",
     "output_type": "stream",
     "text": [
      "Write an integer: t\n"
     ]
    }
   ],
   "source": [
    "try:\n",
    "    while True:\n",
    "        val1 = int(input('Write an integer:'))\n",
    "        val2 = int(input('Write another integer:'))\n",
    "        print('The division is: ', val1/val2)\n",
    "        \n",
    "except KeyboardInterrupt:\n",
    "    #In jupyter press strop button\n",
    "    print('You have finished the program through the keyboard')\n",
    "    \n",
    "except TypeError:\n",
    "    # Delete the casting of an input variable\n",
    "    print('You have introduced a non-numerical value')\n",
    "    \n",
    "except ZeroDivisionError:\n",
    "    print('Warning: The second integer must be different to 0')\n",
    "    \n",
    "except:\n",
    "    print('Not defined exception')\n",
    "    \n",
    "else:\n",
    "    print('No exception occurred')\n",
    "\n",
    "finally:\n",
    "    print('Program just ended')"
   ]
  },
  {
   "cell_type": "code",
   "execution_count": null,
   "metadata": {},
   "outputs": [],
   "source": []
  }
 ],
 "metadata": {
  "kernelspec": {
   "display_name": "Python 3 (ipykernel)",
   "language": "python",
   "name": "python3"
  },
  "language_info": {
   "codemirror_mode": {
    "name": "ipython",
    "version": 3
   },
   "file_extension": ".py",
   "mimetype": "text/x-python",
   "name": "python",
   "nbconvert_exporter": "python",
   "pygments_lexer": "ipython3",
   "version": "3.9.6"
  }
 },
 "nbformat": 4,
 "nbformat_minor": 4
}
